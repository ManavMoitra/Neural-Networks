{
  "nbformat": 4,
  "nbformat_minor": 0,
  "metadata": {
    "colab": {
      "name": "CNN_MNIST.ipynb",
      "provenance": [],
      "authorship_tag": "ABX9TyMjDA4MsrIifxGNJ2Uh8kFc",
      "include_colab_link": true
    },
    "kernelspec": {
      "name": "python3",
      "display_name": "Python 3"
    },
    "accelerator": "GPU"
  },
  "cells": [
    {
      "cell_type": "markdown",
      "metadata": {
        "id": "view-in-github",
        "colab_type": "text"
      },
      "source": [
        "<a href=\"https://colab.research.google.com/github/ManavMoitra/Neural-Networks/blob/master/CNN_MNIST.ipynb\" target=\"_parent\"><img src=\"https://colab.research.google.com/assets/colab-badge.svg\" alt=\"Open In Colab\"/></a>"
      ]
    },
    {
      "cell_type": "code",
      "metadata": {
        "id": "V_DszKoeQTAl",
        "colab_type": "code",
        "colab": {}
      },
      "source": [
        "import torch\n",
        "import torchvision\n",
        "import matplotlib.pyplot as plt\n",
        "import torchvision.transforms as transforms\n",
        "import torch.nn as nn\n",
        "import torch.optim as optim\n",
        "import torch.nn.functional as F\n",
        "import numpy as np"
      ],
      "execution_count": 105,
      "outputs": []
    },
    {
      "cell_type": "code",
      "metadata": {
        "id": "fMBnqMQJVpq2",
        "colab_type": "code",
        "colab": {}
      },
      "source": [
        "transform = transforms.ToTensor()"
      ],
      "execution_count": 34,
      "outputs": []
    },
    {
      "cell_type": "code",
      "metadata": {
        "id": "APKT9-ZfdRl-",
        "colab_type": "code",
        "colab": {
          "base_uri": "https://localhost:8080/",
          "height": 36
        },
        "outputId": "22405cc8-150d-428d-e9cc-54eefc1e2218"
      },
      "source": [
        "device = torch.device(\"cuda:0\" if torch.cuda.is_available() else \"cpu\")\n",
        "print(device)"
      ],
      "execution_count": 35,
      "outputs": [
        {
          "output_type": "stream",
          "text": [
            "cuda:0\n"
          ],
          "name": "stdout"
        }
      ]
    },
    {
      "cell_type": "code",
      "metadata": {
        "id": "DdgHiCtpQgoq",
        "colab_type": "code",
        "colab": {}
      },
      "source": [
        "trainset=torchvision.datasets.MNIST(root=\"/data\",train=True,transform=transform,download=True)"
      ],
      "execution_count": 36,
      "outputs": []
    },
    {
      "cell_type": "code",
      "metadata": {
        "id": "OJNFnLjMSqyV",
        "colab_type": "code",
        "colab": {}
      },
      "source": [
        "trainloader=torch.utils.data.DataLoader(trainset,batch_size=4,shuffle=True)"
      ],
      "execution_count": 37,
      "outputs": []
    },
    {
      "cell_type": "code",
      "metadata": {
        "id": "Yd2cK6vCS-Ob",
        "colab_type": "code",
        "colab": {}
      },
      "source": [
        "dataiter=iter(trainloader)\n",
        "images,labels=dataiter.next()\n"
      ],
      "execution_count": 122,
      "outputs": []
    },
    {
      "cell_type": "code",
      "metadata": {
        "id": "H6MafFVFTP7F",
        "colab_type": "code",
        "colab": {
          "base_uri": "https://localhost:8080/",
          "height": 229
        },
        "outputId": "c7ac8713-bc8e-4198-897d-7cfb12e3c84f"
      },
      "source": [
        "for batch_1 in trainloader:\n",
        "    batch = batch_1\n",
        "    break\n",
        " \n",
        "print(batch[0].shape) # as batch[0] contains the image pixels -> tensors\n",
        "print(batch[1]) # batch[1] contains the labels -> tensors\n",
        " \n",
        "plt.figure(figsize=(12, 8))\n",
        "for i in range (batch[0].shape[0]):\n",
        "    plt.subplot(1, 4, i+1)\n",
        "    plt.axis('off')\n",
        "    plt.imshow(batch[0][i].reshape(28, 28), cmap='gray')\n",
        "    plt.title(int(batch[1][i]))\n",
        "    plt.savefig('digit_mnist.png')\n",
        "plt.show()"
      ],
      "execution_count": 39,
      "outputs": [
        {
          "output_type": "stream",
          "text": [
            "torch.Size([4, 1, 28, 28])\n",
            "tensor([3, 0, 8, 8])\n"
          ],
          "name": "stdout"
        },
        {
          "output_type": "display_data",
          "data": {
            "image/png": "[encoded data removed]",
            "text/plain": [
              "<Figure size 864x576 with 4 Axes>"
            ]
          },
          "metadata": {
            "tags": [],
            "needs_background": "light"
          }
        }
      ]
    },
    {
      "cell_type": "code",
      "metadata": {
        "id": "y-ICtLtvT3Kx",
        "colab_type": "code",
        "colab": {}
      },
      "source": [
        "class LeNet(nn.Module):\n",
        "  def __init__(self):\n",
        "    super(LeNet,self).__init__()\n",
        "    self.CNN=nn.Sequential(\n",
        "        nn.Conv2d(1,6,5),#(N,1,28,28)->(N,6,24,24)\n",
        "        nn.ReLU(),\n",
        "        nn.AvgPool2d(2,stride=2),#(N,6,24,24)->(N,6,12,12)\n",
        "        nn.Conv2d(6,16,3),#(N,6,12,12)->(N,16,10,10)\n",
        "        nn.ReLU(),\n",
        "        nn.AvgPool2d(2,stride=2)#(N,16,10,10)->(N,16,5,5)\n",
        "    )\n",
        "    self.fcn=nn.Sequential(\n",
        "        nn.Linear(400,120),\n",
        "        nn.ReLU(),\n",
        "        nn.Linear(120,84),\n",
        "        nn.ReLU(),\n",
        "        nn.Linear(84,10)\n",
        "    )  \n",
        "\n",
        "  def forward(self,x):\n",
        "    x=self.CNN(x) \n",
        "    x=x.view(x.size(0),-1)\n",
        "    x=self.fcn(x)\n",
        "    return x\n",
        "\n",
        "\n",
        "\n",
        "        \n",
        "\n",
        "\n",
        "\n",
        "    "
      ],
      "execution_count": 90,
      "outputs": []
    },
    {
      "cell_type": "code",
      "metadata": {
        "id": "L1xchlVSiiZC",
        "colab_type": "code",
        "colab": {}
      },
      "source": [
        "batch_size = 64\n",
        "trainset = torchvision.datasets.MNIST(root='mnist_data', train=True, download=True, transform=transform)\n",
        "trainloader = torch.utils.data.DataLoader(trainset, batch_size=batch_size, shuffle=True)\n",
        "testset = torchvision.datasets.MNIST(root='mnist_data', train=False, download=True, transform=transform)\n",
        "testloader = torch.utils.data.DataLoader(testset, batch_size=batch_size, shuffle=False)"
      ],
      "execution_count": 123,
      "outputs": []
    },
    {
      "cell_type": "code",
      "metadata": {
        "id": "GHzcIAIJcTwy",
        "colab_type": "code",
        "colab": {}
      },
      "source": [
        "def evaluation(Dataloader):\n",
        "  correct,total=0,0\n",
        "  for data in Dataloader:\n",
        "    inputs,labels=data[0].to(device),data[1].to(device)\n",
        "    outputs=net(inputs)\n",
        "    _,pred=torch.max(outputs.data,1)\n",
        "    total+=labels.size(0)\n",
        "    correct+=(pred==labels).sum().item()\n",
        "  return correct/total*100\n"
      ],
      "execution_count": 124,
      "outputs": []
    },
    {
      "cell_type": "code",
      "metadata": {
        "id": "UUTZGQsuegne",
        "colab_type": "code",
        "colab": {}
      },
      "source": [
        "net=LeNet().to(device)\n",
        "loss_fn=F.cross_entropy\n",
        "\n",
        "opt=optim.Adam(net.parameters())\n"
      ],
      "execution_count": 125,
      "outputs": []
    },
    {
      "cell_type": "code",
      "metadata": {
        "id": "yqpaIrY3e8JL",
        "colab_type": "code",
        "colab": {
          "base_uri": "https://localhost:8080/",
          "height": 830
        },
        "outputId": "528d1d91-cb19-4a01-95b4-bcf9ca339e24"
      },
      "source": [
        "loss_arr=[]\n",
        "loss_epoch_arr=[]\n",
        "max_epochs=30\n",
        "for epoch in range(max_epochs):\n",
        "  for i,data in enumerate(trainloader):\n",
        "    inputs,labels=data[0].to(device),data[1].to(device)\n",
        "\n",
        "    outputs=net(inputs)\n",
        "    loss=loss_fn(outputs,labels)\n",
        "    opt.zero_grad()\n",
        "    loss.backward()\n",
        "    opt.step()\n",
        "    loss_arr.append(loss.item())\n",
        "  loss_epoch_arr.append(loss.item())\n",
        "  print('Epoch: %d/%d, Test acc: %0.2f, Train acc: %0.2f' % (epoch, max_epochs, evaluation(testloader), evaluation(trainloader)))\n",
        "\n",
        "\n",
        "plt.plot(loss_epoch_arr)\n",
        "plt.show()"
      ],
      "execution_count": 126,
      "outputs": [
        {
          "output_type": "stream",
          "text": [
            "Epoch: 0/30, Test acc: 97.21, Train acc: 96.62\n",
            "Epoch: 1/30, Test acc: 97.86, Train acc: 97.75\n",
            "Epoch: 2/30, Test acc: 98.54, Train acc: 98.34\n",
            "Epoch: 3/30, Test acc: 98.57, Train acc: 98.45\n",
            "Epoch: 4/30, Test acc: 98.71, Train acc: 98.81\n",
            "Epoch: 5/30, Test acc: 98.79, Train acc: 98.88\n",
            "Epoch: 6/30, Test acc: 98.86, Train acc: 99.11\n",
            "Epoch: 7/30, Test acc: 99.06, Train acc: 99.41\n",
            "Epoch: 8/30, Test acc: 99.01, Train acc: 99.33\n",
            "Epoch: 9/30, Test acc: 98.99, Train acc: 99.41\n",
            "Epoch: 10/30, Test acc: 98.95, Train acc: 99.41\n",
            "Epoch: 11/30, Test acc: 99.12, Train acc: 99.54\n",
            "Epoch: 12/30, Test acc: 99.02, Train acc: 99.62\n",
            "Epoch: 13/30, Test acc: 98.77, Train acc: 99.32\n",
            "Epoch: 14/30, Test acc: 98.99, Train acc: 99.66\n",
            "Epoch: 15/30, Test acc: 98.94, Train acc: 99.59\n",
            "Epoch: 16/30, Test acc: 99.09, Train acc: 99.83\n",
            "Epoch: 17/30, Test acc: 98.97, Train acc: 99.66\n",
            "Epoch: 18/30, Test acc: 98.99, Train acc: 99.73\n",
            "Epoch: 19/30, Test acc: 98.86, Train acc: 99.66\n",
            "Epoch: 20/30, Test acc: 99.28, Train acc: 99.90\n",
            "Epoch: 21/30, Test acc: 98.86, Train acc: 99.59\n",
            "Epoch: 22/30, Test acc: 98.97, Train acc: 99.73\n",
            "Epoch: 23/30, Test acc: 99.06, Train acc: 99.78\n",
            "Epoch: 24/30, Test acc: 98.93, Train acc: 99.81\n",
            "Epoch: 25/30, Test acc: 99.09, Train acc: 99.84\n",
            "Epoch: 26/30, Test acc: 99.05, Train acc: 99.78\n",
            "Epoch: 27/30, Test acc: 98.95, Train acc: 99.83\n",
            "Epoch: 28/30, Test acc: 98.97, Train acc: 99.73\n",
            "Epoch: 29/30, Test acc: 98.92, Train acc: 99.82\n"
          ],
          "name": "stdout"
        },
        {
          "output_type": "display_data",
          "data": {
            "image/png": "[encoded data removed]",
            "text/plain": [
              "<Figure size 432x288 with 1 Axes>"
            ]
          },
          "metadata": {
            "tags": [],
            "needs_background": "light"
          }
        }
      ]
    },
    {
      "cell_type": "code",
      "metadata": {
        "id": "kye0g0KLClye",
        "colab_type": "code",
        "colab": {}
      },
      "source": [
        "def imshow(img):\n",
        "    npimg = img.numpy()\n",
        "    plt.imshow(np.transpose(npimg, ( 1,2,0)))\n",
        "    plt.show()\n"
      ],
      "execution_count": 127,
      "outputs": []
    },
    {
      "cell_type": "code",
      "metadata": {
        "id": "5aJ9Gyqtta4j",
        "colab_type": "code",
        "colab": {
          "base_uri": "https://localhost:8080/",
          "height": 269
        },
        "outputId": "a2b5d71e-d21b-465d-e301-bd325ed9a9b2"
      },
      "source": [
        "imshow(torchvision.utils.make_grid(images))"
      ],
      "execution_count": 128,
      "outputs": [
        {
          "output_type": "display_data",
          "data": {
            "image/png": "[encoded data removed]",
            "text/plain": [
              "<Figure size 432x288 with 1 Axes>"
            ]
          },
          "metadata": {
            "tags": [],
            "needs_background": "light"
          }
        }
      ]
    },
    {
      "cell_type": "code",
      "metadata": {
        "id": "Z1y5rIjKtzSa",
        "colab_type": "code",
        "colab": {}
      },
      "source": [
        "net = net.to('cpu')"
      ],
      "execution_count": 129,
      "outputs": []
    },
    {
      "cell_type": "code",
      "metadata": {
        "id": "KODCX4TEuJpo",
        "colab_type": "code",
        "colab": {
          "base_uri": "https://localhost:8080/",
          "height": 36
        },
        "outputId": "73b1f0d4-2f01-466e-850e-60a9e782e331"
      },
      "source": [
        "out = net(images)\n",
        "print(out.shape)"
      ],
      "execution_count": 130,
      "outputs": [
        {
          "output_type": "stream",
          "text": [
            "torch.Size([64, 10])\n"
          ],
          "name": "stdout"
        }
      ]
    },
    {
      "cell_type": "code",
      "metadata": {
        "id": "jDy_iB0YuM1E",
        "colab_type": "code",
        "colab": {
          "base_uri": "https://localhost:8080/",
          "height": 36
        },
        "outputId": "265e06ca-d60c-4563-dadc-f97fc6970d83"
      },
      "source": [
        "out = net.CNN[0](images)\n",
        "out.shape"
      ],
      "execution_count": 131,
      "outputs": [
        {
          "output_type": "execute_result",
          "data": {
            "text/plain": [
              "torch.Size([64, 6, 24, 24])"
            ]
          },
          "metadata": {
            "tags": []
          },
          "execution_count": 131
        }
      ]
    },
    {
      "cell_type": "code",
      "metadata": {
        "id": "Ig-lXefq5GqA",
        "colab_type": "code",
        "colab": {}
      },
      "source": [
        ""
      ],
      "execution_count": null,
      "outputs": []
    },
    {
      "cell_type": "code",
      "metadata": {
        "id": "9MRR_U8gucxb",
        "colab_type": "code",
        "colab": {
          "base_uri": "https://localhost:8080/",
          "height": 433
        },
        "outputId": "7635b210-2670-4863-b43b-3bf77c06f9d4"
      },
      "source": [
        "plt.figure(figsize = (6,6))\n",
        "plt.subplot(321)\n",
        "for i in range(6):\n",
        "    ax1 = plt.subplot(3, 2, i+1)\n",
        "    plt.imshow(out[image_id, i, :, :].detach().numpy(), cmap=\"binary\")\n",
        "plt.show()"
      ],
      "execution_count": 133,
      "outputs": [
        {
          "output_type": "stream",
          "text": [
            "/usr/local/lib/python3.6/dist-packages/ipykernel_launcher.py:4: MatplotlibDeprecationWarning: Adding an axes using the same arguments as a previous axes currently reuses the earlier instance.  In a future version, a new instance will always be created and returned.  Meanwhile, this warning can be suppressed, and the future behavior ensured, by passing a unique label to each axes instance.\n",
            "  after removing the cwd from sys.path.\n"
          ],
          "name": "stderr"
        },
        {
          "output_type": "display_data",
          "data": {
            "image/png": "[encoded data removed]",
            "text/plain": [
              "<Figure size 432x432 with 6 Axes>"
            ]
          },
          "metadata": {
            "tags": [],
            "needs_background": "light"
          }
        }
      ]
    },
    {
      "cell_type": "code",
      "metadata": {
        "id": "oqeN6P7uuoq2",
        "colab_type": "code",
        "colab": {}
      },
      "source": [
        ""
      ],
      "execution_count": null,
      "outputs": []
    }
  ]
}